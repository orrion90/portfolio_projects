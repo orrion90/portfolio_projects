{
 "cells": [
  {
   "cell_type": "markdown",
   "metadata": {},
   "source": [
    "Retention – один из самых важных показателей в компании. Ваша задача – написать функцию, которая будет считать retention игроков (по дням от даты регистрации игрока). Функция доожна быть тестируема как на полном датасете, так и на сэмпле данных."
   ]
  },
  {
   "cell_type": "code",
   "execution_count": 3,
   "metadata": {},
   "outputs": [],
   "source": [
    "def retention(N_day, start_date = None, end_date = None, cohort = None, percentage=True):\n",
    "    \"\"\"\n",
    "    Функция retention может возвращать несколько значений:\n",
    "    - Среднее процентное значение Retention конкретного дня по всем когортам.\n",
    "    - Процентное значение Retention конкретного дня по конкретной когорте.\n",
    "    - Абсолютное среднее значение Retention конкретного дня по всем когортам.\n",
    "    - Абсолютное значение Retention конкретного дня по конкретной когорте.\n",
    "    \n",
    "    Параметры:  \n",
    "    - N_day - Retention какого дня требуется\n",
    "    - start_date - начало регистрации пользователей. По-умолчанию min дата, формат: 'Y-m-d'\n",
    "    - end_date - конец регистрации пользователей. По-умолчанию max дата, формат: 'Y-m-d'\n",
    "    - cohort - Retention какой именно когорты пользователей требуется. По-умолчанию все когорты, формат: 'Y-m-d'\n",
    "    - percentage - Retention в процентах или в абсолютном выражении. По-умолчанию True, формат: True/False\n",
    "            \n",
    "    \"\"\"\n",
    "           \n",
    "    import pandas as pd\n",
    "    \n",
    "    # преобразование start_date и end_date в даты\n",
    "    start_date = pd.to_datetime(start_date)\n",
    "    end_date = pd.to_datetime(end_date)\n",
    "    \n",
    "    # чтение данных о регистрациях с преобразванием дат \n",
    "    reg_data = pd.read_csv('problem1-reg_data.csv', sep=';')\n",
    "    reg_data.reg_ts = (pd.to_datetime(reg_data.reg_ts, unit='s')).dt.date\n",
    "    \n",
    "    #ограничение датасета временными рамками start_date, end_date\n",
    "    if start_date == None: start_date = reg_data.reg_ts.min()\n",
    "    if end_date == None: end_date = reg_data.reg_ts.max()\n",
    "    reg_data = reg_data.query('reg_ts >= @start_date & reg_ts <= @end_date')\n",
    "    \n",
    "    # чтение данных о посещениях с преобразованием дат\n",
    "    auth_data = pd.read_csv('problem1-auth_data.csv', sep=';')\n",
    "    auth_data.auth_ts = (pd.to_datetime(auth_data.auth_ts, unit='s')).dt.date\n",
    "    \n",
    "    # объединение датасетов\n",
    "    df = auth_data.merge(reg_data, how='right', on='uid')\n",
    "    \n",
    "    # определяем временные промежутки для построения Retention\n",
    "    df['days_distance'] = (df.auth_ts - df.reg_ts).dt.days\n",
    "    \n",
    "    # определяем когорты пользователей по дате регитрации\n",
    "    df['cohorts'] = df.reg_ts.apply(lambda x: str(x))\n",
    "    \n",
    "    # групируем данные для формирования сводной таблицы\n",
    "    retention = df.groupby(['cohorts', 'days_distance'], as_index=False).uid.nunique()\n",
    "    \n",
    "    # если требуется абсолютный Retention\n",
    "    if percentage == False:\n",
    "        retention = retention.pivot_table(index='cohorts', columns='days_distance', values='uid').reset_index()\n",
    "        if cohort == None:\n",
    "            return print('Абсолютный средний Retention {}-го дня за период с {} по {} составляет: {:.2f}'.format(N_day, start_date.strftime('%Y-%m-%d'), end_date.strftime('%Y-%m-%d') ,(retention.loc[:, N_day].mean())))\n",
    "        else:\n",
    "            return print('Абсолютный Retention {}-го дня для когорты {} за период с {} по {} составляет: {:.2f}'.format(N_day, cohort, start_date.strftime('%Y-%m-%d'), end_date.strftime('%Y-%m-%d') ,retention[retention.cohorts == cohort].loc[:,N_day].sum()))\n",
    "        \n",
    "        \n",
    "    # еще раз группируем данные и считем процентное значение Retention\n",
    "    group_df = retention.query('days_distance == 0')[['cohorts', 'uid']].rename(columns={'uid' : 'total_users'})\n",
    "    retention = retention.merge(group_df, how='left', on='cohorts')\n",
    "    retention['retention_values'] = round(((retention.uid / retention.total_users)), 4)\n",
    "    \n",
    "    # итоговая таблица с посчитанным процентным Retention\n",
    "    retention = retention.pivot_table(index='cohorts', columns='days_distance', values='retention_values').reset_index()\n",
    "    \n",
    "    # выводим результат\n",
    "    if cohort == None:\n",
    "        return print('Retention {}-го дня за период с {} по {} составляет: {:.2%}'.format(N_day, start_date.strftime('%Y-%m-%d'), end_date.strftime('%Y-%m-%d') ,(retention.loc[:, N_day].mean())))\n",
    "    else:\n",
    "        return print('Retention {}-го дня для когорты {} за период с {} по {} составляет: {:.2%}'.format(N_day, cohort, start_date.strftime('%Y-%m-%d'), end_date.strftime('%Y-%m-%d') ,retention[retention.cohorts == cohort].loc[:,N_day].sum()))"
   ]
  },
  {
   "cell_type": "code",
   "execution_count": 4,
   "metadata": {},
   "outputs": [
    {
     "name": "stdout",
     "output_type": "stream",
     "text": [
      "Retention 19-го дня за период с 2020-04-05 по 2020-09-23 составляет: 4.12%\n"
     ]
    }
   ],
   "source": [
    "retention(N_day=19, start_date='2020-04-05')"
   ]
  }
 ],
 "metadata": {
  "kernelspec": {
   "display_name": "Python 3",
   "language": "python",
   "name": "python3"
  },
  "language_info": {
   "codemirror_mode": {
    "name": "ipython",
    "version": 3
   },
   "file_extension": ".py",
   "mimetype": "text/x-python",
   "name": "python",
   "nbconvert_exporter": "python",
   "pygments_lexer": "ipython3",
   "version": "3.9.4"
  }
 },
 "nbformat": 4,
 "nbformat_minor": 4
}
