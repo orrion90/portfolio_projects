{
 "cells": [
  {
   "cell_type": "markdown",
   "metadata": {},
   "source": [
    "Имеются результаты A/B теста, в котором двум группам пользователей предлагались различные наборы акционных предложений. Известно, что ARPU в тестовой группе выше на 5%, чем в контрольной. При этом в контрольной группе 1928 игроков из 202103 оказались платящими, а в тестовой – 1805 из 202667.\n",
    "\n",
    "Какой набор предложений можно считать лучшим? Какие метрики стоит проанализировать для принятия правильного решения и как?"
   ]
  },
  {
   "cell_type": "code",
   "execution_count": 1,
   "metadata": {},
   "outputs": [],
   "source": [
    "import pandas as pd\n",
    "import numpy as np\n",
    "import seaborn as sns\n",
    "import matplotlib.pyplot as plt\n",
    "from scipy import stats\n",
    "import statsmodels.stats.api as sms\n",
    "from tqdm.auto import tqdm\n",
    "from statsmodels.graphics.gofplots import qqplot\n",
    "from scipy.stats import norm, mannwhitneyu, kstest"
   ]
  },
  {
   "cell_type": "markdown",
   "metadata": {},
   "source": [
    "Посмотрим общую информацию о датасете"
   ]
  },
  {
   "cell_type": "code",
   "execution_count": 2,
   "metadata": {},
   "outputs": [],
   "source": [
    "df = pd.read_csv('problem2.csv', sep=';')"
   ]
  },
  {
   "cell_type": "code",
   "execution_count": 3,
   "metadata": {},
   "outputs": [
    {
     "data": {
      "text/html": [
       "<div>\n",
       "<style scoped>\n",
       "    .dataframe tbody tr th:only-of-type {\n",
       "        vertical-align: middle;\n",
       "    }\n",
       "\n",
       "    .dataframe tbody tr th {\n",
       "        vertical-align: top;\n",
       "    }\n",
       "\n",
       "    .dataframe thead th {\n",
       "        text-align: right;\n",
       "    }\n",
       "</style>\n",
       "<table border=\"1\" class=\"dataframe\">\n",
       "  <thead>\n",
       "    <tr style=\"text-align: right;\">\n",
       "      <th></th>\n",
       "      <th>user_id</th>\n",
       "      <th>revenue</th>\n",
       "      <th>testgroup</th>\n",
       "    </tr>\n",
       "  </thead>\n",
       "  <tbody>\n",
       "    <tr>\n",
       "      <th>0</th>\n",
       "      <td>1</td>\n",
       "      <td>0</td>\n",
       "      <td>b</td>\n",
       "    </tr>\n",
       "    <tr>\n",
       "      <th>1</th>\n",
       "      <td>2</td>\n",
       "      <td>0</td>\n",
       "      <td>a</td>\n",
       "    </tr>\n",
       "    <tr>\n",
       "      <th>2</th>\n",
       "      <td>3</td>\n",
       "      <td>0</td>\n",
       "      <td>a</td>\n",
       "    </tr>\n",
       "    <tr>\n",
       "      <th>3</th>\n",
       "      <td>4</td>\n",
       "      <td>0</td>\n",
       "      <td>b</td>\n",
       "    </tr>\n",
       "    <tr>\n",
       "      <th>4</th>\n",
       "      <td>5</td>\n",
       "      <td>0</td>\n",
       "      <td>b</td>\n",
       "    </tr>\n",
       "  </tbody>\n",
       "</table>\n",
       "</div>"
      ],
      "text/plain": [
       "   user_id  revenue testgroup\n",
       "0        1        0         b\n",
       "1        2        0         a\n",
       "2        3        0         a\n",
       "3        4        0         b\n",
       "4        5        0         b"
      ]
     },
     "execution_count": 3,
     "metadata": {},
     "output_type": "execute_result"
    }
   ],
   "source": [
    "df.head()"
   ]
  },
  {
   "cell_type": "code",
   "execution_count": 4,
   "metadata": {},
   "outputs": [
    {
     "data": {
      "text/plain": [
       "<matplotlib.axes._subplots.AxesSubplot at 0x7f9dfcdc8cc0>"
      ]
     },
     "execution_count": 4,
     "metadata": {},
     "output_type": "execute_result"
    },
    {
     "data": {
      "image/png": "[encoded data removed]",
      "text/plain": [
       "<Figure size 432x288 with 1 Axes>"
      ]
     },
     "metadata": {
      "needs_background": "light"
     },
     "output_type": "display_data"
    }
   ],
   "source": [
    "df.query('revenue > 0').revenue.hist()"
   ]
  },
  {
   "cell_type": "code",
   "execution_count": 5,
   "metadata": {},
   "outputs": [
    {
     "data": {
      "text/plain": [
       "nunique    202103\n",
       "count      202103\n",
       "Name: user_id, dtype: int64"
      ]
     },
     "execution_count": 5,
     "metadata": {},
     "output_type": "execute_result"
    }
   ],
   "source": [
    "df.query('testgroup == \"a\"').user_id.agg({'count', 'nunique'})"
   ]
  },
  {
   "cell_type": "code",
   "execution_count": 6,
   "metadata": {},
   "outputs": [
    {
     "data": {
      "text/plain": [
       "nunique    202667\n",
       "count      202667\n",
       "Name: user_id, dtype: int64"
      ]
     },
     "execution_count": 6,
     "metadata": {},
     "output_type": "execute_result"
    }
   ],
   "source": [
    "df.query('testgroup == \"b\"').user_id.agg({'count', 'nunique'})"
   ]
  },
  {
   "cell_type": "markdown",
   "metadata": {},
   "source": [
    "Посмотрим общую статистическую инфрормацию о доходе в разрезе групп 'а' и 'в'"
   ]
  },
  {
   "cell_type": "code",
   "execution_count": 7,
   "metadata": {},
   "outputs": [
    {
     "data": {
      "text/plain": [
       "count     1928.000000\n",
       "mean      2663.998444\n",
       "std       9049.039763\n",
       "min        200.000000\n",
       "25%        257.000000\n",
       "50%        311.000000\n",
       "75%        361.000000\n",
       "max      37433.000000\n",
       "Name: revenue, dtype: float64"
      ]
     },
     "execution_count": 7,
     "metadata": {},
     "output_type": "execute_result"
    }
   ],
   "source": [
    "df.query('revenue > 0 & testgroup == \"a\"').revenue.describe()"
   ]
  },
  {
   "cell_type": "code",
   "execution_count": 8,
   "metadata": {},
   "outputs": [
    {
     "data": {
      "text/plain": [
       "count    1805.000000\n",
       "mean     3003.658172\n",
       "std       572.619709\n",
       "min      2000.000000\n",
       "25%      2513.000000\n",
       "50%      3022.000000\n",
       "75%      3478.000000\n",
       "max      4000.000000\n",
       "Name: revenue, dtype: float64"
      ]
     },
     "execution_count": 8,
     "metadata": {},
     "output_type": "execute_result"
    }
   ],
   "source": [
    "df.query('revenue > 0 & testgroup == \"b\"').revenue.describe()"
   ]
  },
  {
   "cell_type": "markdown",
   "metadata": {},
   "source": [
    "Как видно значения процентилей revenue в двух группах на взгляд сильно отличаются друг от друга, что зразу же наталкивает на мысль об услових, в которых проводился A/B тест (в т.ч. репрезентативность дисперсии), что косвенно подтверждается показателем стандартного отклонения 'a' группы.\n",
    "Построим boxplot для того, чтобы более подробно посмотреть на распределение revenue по группам."
   ]
  },
  {
   "cell_type": "code",
   "execution_count": 9,
   "metadata": {},
   "outputs": [
    {
     "data": {
      "image/png": "[encoded data removed]",
      "text/plain": [
       "<Figure size 1296x648 with 1 Axes>"
      ]
     },
     "metadata": {
      "needs_background": "light"
     },
     "output_type": "display_data"
    }
   ],
   "source": [
    "plt.figure(figsize=(18,9))\n",
    "sns.boxplot(data = df.query('revenue > 0'), x = 'revenue', y = 'testgroup', orient='h', fliersize = 10.0)\n",
    "plt.grid()"
   ]
  },
  {
   "cell_type": "code",
   "execution_count": 10,
   "metadata": {},
   "outputs": [
    {
     "data": {
      "text/plain": [
       "399.0"
      ]
     },
     "execution_count": 10,
     "metadata": {},
     "output_type": "execute_result"
    }
   ],
   "source": [
    "df.query('revenue > 0 & testgroup == \"a\"').revenue.quantile(0.93)"
   ]
  },
  {
   "cell_type": "code",
   "execution_count": 11,
   "metadata": {},
   "outputs": [
    {
     "data": {
      "text/plain": [
       "37299.65"
      ]
     },
     "execution_count": 11,
     "metadata": {},
     "output_type": "execute_result"
    }
   ],
   "source": [
    "df.query('revenue > 0 & testgroup == \"a\"').revenue.quantile(0.95)"
   ]
  },
  {
   "cell_type": "markdown",
   "metadata": {},
   "source": [
    "У нас сильный выброс в группе 'a', в которой 93% дохода составляют значения меньше 399 рублей, а 5% больше 37К.\n",
    "\n",
    "Почему так получилось? Пока что версии две:\n",
    "1. На часть пользователей так хорошо подействовал набор акционных товаров в группе 'a', что они накупили товаров на сумму > 37К.\n",
    "2. Что-то не так с системой сплитования трафика и группы пользователей сформированны некорректно."
   ]
  },
  {
   "cell_type": "markdown",
   "metadata": {},
   "source": [
    "Начнем с конца и с помощью A/A теста проверим корректность работы системы сплитования."
   ]
  },
  {
   "cell_type": "code",
   "execution_count": 12,
   "metadata": {},
   "outputs": [
    {
     "data": {
      "application/vnd.jupyter.widget-view+json": {
       "model_id": "56a82cbaff294eb5b46ba8079c2ff2ae",
       "version_major": 2,
       "version_minor": 0
      },
      "text/plain": [
       "HBox(children=(FloatProgress(value=0.0, max=1000.0), HTML(value='')))"
      ]
     },
     "metadata": {},
     "output_type": "display_data"
    },
    {
     "name": "stdout",
     "output_type": "stream",
     "text": [
      "\n"
     ]
    },
    {
     "data": {
      "image/png": "[encoded data removed]",
      "text/plain": [
       "<Figure size 432x288 with 1 Axes>"
      ]
     },
     "metadata": {
      "needs_background": "light"
     },
     "output_type": "display_data"
    },
    {
     "data": {
      "text/plain": [
       "0.462"
      ]
     },
     "execution_count": 12,
     "metadata": {},
     "output_type": "execute_result"
    }
   ],
   "source": [
    "n = 404770 # размер оригинальной выборки\n",
    "simulations = 1000\n",
    "n_s = 1000 # количество наблюдений в формирующейся подвыборке\n",
    "res = []\n",
    "\n",
    "# Запуск симуляций A/A теста\n",
    "for i in tqdm(range(simulations)):\n",
    "    s1 = df.query('testgroup == \"a\"').revenue.sample(n_s, replace = False).values\n",
    "    s2 = df.query('testgroup == \"b\"').revenue.sample(n_s, replace = False).values\n",
    "    res.append(stats.ttest_ind(s1, s2, equal_var = False)[1]) # сохраняем pvalue\n",
    "\n",
    "plt.hist(res, bins = 50)\n",
    "plt.style.use('ggplot')\n",
    "plt.xlabel('pvalues')\n",
    "plt.ylabel('frequency')\n",
    "plt.title(\"Histogram of ttest A/A simulations \")\n",
    "plt.show()\n",
    "\n",
    "# Проверяем, что количество ложноположительных случаев не превышает альфа\n",
    "sum(np.array(res) <0.05) / simulations"
   ]
  },
  {
   "cell_type": "markdown",
   "metadata": {},
   "source": [
    "Как видно значение FPR(False Positive Rate)> 0.05, что означает:\n",
    "- Наша система сплитования пользователей по группам работает неправильно, а соответственно и результаты A/B теста считать достоверными не стоит."
   ]
  },
  {
   "cell_type": "markdown",
   "metadata": {},
   "source": [
    "В данном случае я бы порекомендовал сначала поправить работу системы, после чего провести еще один тест."
   ]
  },
  {
   "cell_type": "markdown",
   "metadata": {},
   "source": [
    "Но допустим, что все таки система сплитования работает правильно, и мы имеем дело с очень активными покупателями, которым очень понравился акционный набор.\n",
    "\n",
    "В таком случае мы можем следующим образом оценить наши данные:\n",
    "\n",
    "- Сначала посчитаем метрики по группам:\n",
    "    - Общий доход\n",
    "    - ARPU\n",
    "    - ARPPU\n",
    "    - СR\n",
    "\n",
    "- Сравним являются ли изменения метрик статистически значимыми:\n",
    "\n",
    "    - Сравним как отличается общая сумма дохода, который нам принесли пользователи тестовой и контрольной групп.\n",
    "    - Сравним ARPU по группам.\n",
    "    - Сравним ARPPU.\n",
    "    - Сравним отношение (Conversion Rate) количества пользователей, которые оформили заказ к общему количеству пользоателей по группам.\n",
    "\n",
    "Для всех сревнений в качестве оценшика я выбрал бутстрап, поскольку метрики другими методами я не протестрию, а для первой задачи, при такой форме распределения, рисковать использовать t-test не хочется, а тест Манна_Уитни в данном случае будет тяжело проинтепретировать.\n",
    "\n",
    "И да, для Bootstrap желательно, чтобы наша выборка действительно была репрезентативной, но мы же уже решили, что да будет так)"
   ]
  },
  {
   "cell_type": "code",
   "execution_count": null,
   "metadata": {},
   "outputs": [],
   "source": []
  },
  {
   "cell_type": "code",
   "execution_count": 13,
   "metadata": {},
   "outputs": [],
   "source": [
    "revenue_control = df.query('testgroup == \"a\"').revenue.sum()"
   ]
  },
  {
   "cell_type": "code",
   "execution_count": 14,
   "metadata": {},
   "outputs": [],
   "source": [
    "revenue_test = df.query('testgroup == \"b\"').revenue.sum()"
   ]
  },
  {
   "cell_type": "code",
   "execution_count": 15,
   "metadata": {},
   "outputs": [],
   "source": [
    "revenue_diff = round((revenue_test - revenue_control) / revenue_control * 100 , 2)"
   ]
  },
  {
   "cell_type": "code",
   "execution_count": null,
   "metadata": {},
   "outputs": [],
   "source": []
  },
  {
   "cell_type": "code",
   "execution_count": 16,
   "metadata": {},
   "outputs": [],
   "source": [
    "arpu_control = df.query('testgroup == \"a\"').revenue.sum() / df.query('testgroup == \"a\"').user_id.count()"
   ]
  },
  {
   "cell_type": "code",
   "execution_count": 17,
   "metadata": {},
   "outputs": [],
   "source": [
    "arpu_test = df.query('testgroup == \"b\"').revenue.sum() / df.query('testgroup == \"b\"').user_id.count()"
   ]
  },
  {
   "cell_type": "code",
   "execution_count": 18,
   "metadata": {},
   "outputs": [],
   "source": [
    "arpu_diff = round((arpu_test - arpu_control) / arpu_test * 100, 2)"
   ]
  },
  {
   "cell_type": "code",
   "execution_count": null,
   "metadata": {},
   "outputs": [],
   "source": []
  },
  {
   "cell_type": "code",
   "execution_count": 21,
   "metadata": {},
   "outputs": [],
   "source": [
    "arppu_control = df.query('testgroup == \"a\" & revenue > 0').revenue.sum() / \\\n",
    "                df.query('testgroup == \"a\" & revenue > 0').user_id.count()"
   ]
  },
  {
   "cell_type": "code",
   "execution_count": 22,
   "metadata": {},
   "outputs": [],
   "source": [
    "arppu_test = df.query('testgroup == \"b\" & revenue > 0').revenue.sum() /  \\\n",
    "            df.query('testgroup == \"b\" & revenue > 0').user_id.count()"
   ]
  },
  {
   "cell_type": "code",
   "execution_count": 23,
   "metadata": {},
   "outputs": [],
   "source": [
    "arppu_diff = round((arppu_test - arppu_control) / arppu_control * 100, 2)"
   ]
  },
  {
   "cell_type": "code",
   "execution_count": null,
   "metadata": {},
   "outputs": [],
   "source": []
  },
  {
   "cell_type": "code",
   "execution_count": 24,
   "metadata": {},
   "outputs": [],
   "source": [
    "cr_control = df.query('testgroup == \"a\" & revenue > 0').user_id.count() / df.query('testgroup == \"a\"').user_id.count() * 100"
   ]
  },
  {
   "cell_type": "code",
   "execution_count": 25,
   "metadata": {},
   "outputs": [],
   "source": [
    "cr_test = df.query('testgroup == \"b\" & revenue > 0').user_id.count() / df.query('testgroup == \"b\"').user_id.count() * 100"
   ]
  },
  {
   "cell_type": "code",
   "execution_count": 26,
   "metadata": {},
   "outputs": [],
   "source": [
    "cr_diff = round((cr_test - cr_control) / cr_control * 100, 2)"
   ]
  },
  {
   "cell_type": "code",
   "execution_count": null,
   "metadata": {},
   "outputs": [],
   "source": []
  },
  {
   "cell_type": "code",
   "execution_count": 27,
   "metadata": {},
   "outputs": [
    {
     "data": {
      "text/html": [
       "<div>\n",
       "<style scoped>\n",
       "    .dataframe tbody tr th:only-of-type {\n",
       "        vertical-align: middle;\n",
       "    }\n",
       "\n",
       "    .dataframe tbody tr th {\n",
       "        vertical-align: top;\n",
       "    }\n",
       "\n",
       "    .dataframe thead th {\n",
       "        text-align: right;\n",
       "    }\n",
       "</style>\n",
       "<table border=\"1\" class=\"dataframe\">\n",
       "  <thead>\n",
       "    <tr style=\"text-align: right;\">\n",
       "      <th></th>\n",
       "      <th>absolut_revenue</th>\n",
       "      <th>arpu</th>\n",
       "      <th>arppu</th>\n",
       "      <th>cr</th>\n",
       "    </tr>\n",
       "  </thead>\n",
       "  <tbody>\n",
       "    <tr>\n",
       "      <th>control_group</th>\n",
       "      <td>5136189.00</td>\n",
       "      <td>25.413720</td>\n",
       "      <td>2663.998444</td>\n",
       "      <td>0.953969</td>\n",
       "    </tr>\n",
       "    <tr>\n",
       "      <th>test_group</th>\n",
       "      <td>5421603.00</td>\n",
       "      <td>26.751287</td>\n",
       "      <td>3003.658172</td>\n",
       "      <td>0.890624</td>\n",
       "    </tr>\n",
       "    <tr>\n",
       "      <th>difference</th>\n",
       "      <td>5.56</td>\n",
       "      <td>5.000000</td>\n",
       "      <td>12.750000</td>\n",
       "      <td>-6.640000</td>\n",
       "    </tr>\n",
       "  </tbody>\n",
       "</table>\n",
       "</div>"
      ],
      "text/plain": [
       "               absolut_revenue       arpu        arppu        cr\n",
       "control_group       5136189.00  25.413720  2663.998444  0.953969\n",
       "test_group          5421603.00  26.751287  3003.658172  0.890624\n",
       "difference                5.56   5.000000    12.750000 -6.640000"
      ]
     },
     "execution_count": 27,
     "metadata": {},
     "output_type": "execute_result"
    }
   ],
   "source": [
    "pd.DataFrame({'absolut_revenue' : [revenue_control, revenue_test, revenue_diff],\n",
    "              'arpu' : [arpu_control, arpu_test, arpu_diff],\n",
    "              'arppu' : [arppu_control, arppu_test, arppu_diff],\n",
    "              'cr' : [cr_control, cr_test, cr_diff]}, index = ['control_group', 'test_group', 'difference'])"
   ]
  },
  {
   "cell_type": "markdown",
   "metadata": {},
   "source": [
    "Как видно из данных абсолютный доход, доход на пользователя и доход на платящего пользователя выросли по сравнению с контрольной группой, на 5.56%, 5%, и 12.7% соответственно, а конверсия упала на 6.64%.\n",
    "\n",
    "Теперь проверим являются ли эти изменения статистически значимыми или это всего лишь следствие случайности."
   ]
  },
  {
   "cell_type": "markdown",
   "metadata": {},
   "source": [
    "# Сравниваем доход\n",
    "\n",
    "    Н0 - размер общего дохода в контрольной и тестовой группах статистически не различается, а любые различия следствия случайности.\n",
    "    Н1 - различия размера общего дохода в группах не случайны и статистически значимы."
   ]
  },
  {
   "cell_type": "code",
   "execution_count": 28,
   "metadata": {},
   "outputs": [],
   "source": [
    "def get_bootstrap_revenue(\n",
    "    data_column_1, # числовые значения первой выборки\n",
    "    data_column_2, # числовые значения второй выборки\n",
    "    boot_it = 1000, # количество бутстрэп-подвыборок\n",
    "  \n",
    "    ):\n",
    "    boot_len = max([len(data_column_1), len(data_column_2)])\n",
    "    boot_data_1 = []\n",
    "    boot_data_2 = []\n",
    "    for i in tqdm(range(boot_it)): # извлекаем подвыборки\n",
    "        sample_data_1 = data_column_1.sample(boot_len, replace=True)\n",
    "        boot_data_1.append(sample_data_1.sum())\n",
    "        \n",
    "        sample_data_2 = data_column_2.sample(boot_len, replace=True)\n",
    "        \n",
    "        boot_data_2.append(sample_data_2.sum())\n",
    "        \n",
    "    \n",
    "     \n",
    "    sum_a = np.array(boot_data_1)\n",
    "    sum_b= np.array(boot_data_2)\n",
    "    \n",
    "    \n",
    "    test_group_a = []\n",
    "    for i in range(len(sum_a)): test_group_a.append('a')\n",
    "    test_group_a = np.array(test_group_a)\n",
    "    a_group = pd.DataFrame({'revenue': sum_a, 'test_group' : test_group_a})\n",
    "    \n",
    "    test_group_b = []\n",
    "    for i in range(len(sum_b)): test_group_b.append('b')\n",
    "    test_group_b = np.array(test_group_b)\n",
    "    b_group = pd.DataFrame({'revenue': sum_b, 'test_group' : test_group_b})\n",
    "    \n",
    "    summ = pd.concat([a_group, b_group], axis=0)\n",
    "    \n",
    "    # Выводим доверительные интервалы для получившихся распределений\n",
    "    print('Group A: ', stats.t.interval(0.99, len(sum_a)-1, loc=np.mean(sum_a), scale=stats.sem(sum_a)))\n",
    "    print('Group B: ', stats.t.interval(0.99, len(sum_b)-1, loc=np.mean(sum_b), scale=stats.sem(sum_b)))\n",
    "    \n",
    "    #plt.figure(figsize=(18,5))\n",
    "    sns.pointplot(y = 'revenue', x = 'test_group', hue='test_group', data=summ, dodge=True, join=False, orient='v')\n",
    "    plt.grid()\n",
    "    "
   ]
  },
  {
   "cell_type": "code",
   "execution_count": 29,
   "metadata": {},
   "outputs": [],
   "source": [
    "revenue_a = df.query('testgroup == \"a\"').revenue\n",
    "revenue_b = df.query('testgroup == \"b\"').revenue"
   ]
  },
  {
   "cell_type": "code",
   "execution_count": 30,
   "metadata": {},
   "outputs": [
    {
     "data": {
      "application/vnd.jupyter.widget-view+json": {
       "model_id": "c57afa989b114abeb568449a317cbc6e",
       "version_major": 2,
       "version_minor": 0
      },
      "text/plain": [
       "HBox(children=(FloatProgress(value=0.0, max=2000.0), HTML(value='')))"
      ]
     },
     "metadata": {},
     "output_type": "display_data"
    },
    {
     "name": "stdout",
     "output_type": "stream",
     "text": [
      "\n",
      "Group A:  (5125549.418823948, 5172421.513176052)\n",
      "Group B:  (5416678.960324675, 5431557.837675326)\n"
     ]
    },
    {
     "data": {
      "image/png": "[encoded data removed]",
      "text/plain": [
       "<Figure size 432x288 with 1 Axes>"
      ]
     },
     "metadata": {},
     "output_type": "display_data"
    }
   ],
   "source": [
    "get_bootstrap_revenue(revenue_a, revenue_b, boot_it = 2000)"
   ]
  },
  {
   "cell_type": "markdown",
   "metadata": {},
   "source": [
    "Как мы видим доверительные интервалы обоих групп не пересекаются между собой, что дает нам право отклонить нулевую гипотезу. Такого же результата мы достигаем при удвоении размера выборки и количества итераций."
   ]
  },
  {
   "cell_type": "code",
   "execution_count": null,
   "metadata": {},
   "outputs": [],
   "source": []
  },
  {
   "cell_type": "markdown",
   "metadata": {},
   "source": [
    "# Сравниваем ARPU\n",
    "    Н0 - показатель ARPU в контрольной и тестовой группах статистически не различается, а любые различия следствия случайности.\n",
    "    Н1 - различия показателя ARPU в группах не случайны и статистически значимы."
   ]
  },
  {
   "cell_type": "code",
   "execution_count": 31,
   "metadata": {},
   "outputs": [],
   "source": [
    "def get_bootstrap_ARPU(\n",
    "    data_column_1, # числовые значения первой выборки\n",
    "    data_column_2, # числовые значения второй выборки\n",
    "    boot_it = 1000, # количество бутстрэп-подвыборок\n",
    "  \n",
    "    ):\n",
    "    boot_len = max([len(data_column_1), len(data_column_2)])\n",
    "    boot_data_1 = []\n",
    "    boot_data_2 = []\n",
    "    for i in tqdm(range(boot_it)): # извлекаем подвыборки\n",
    "        sample_revenue_1 = data_column_1.sample(boot_len, replace=True)\n",
    "        sample_arpu_1 = sample_revenue_1.sum() / sample_revenue_1.shape[0]\n",
    "        boot_data_1.append(sample_arpu_1)\n",
    "        \n",
    "        sample_revenue_2 = data_column_2.sample(boot_len, replace=True)\n",
    "        sample_arpu_2 = sample_revenue_2.sum() / sample_revenue_2.shape[0]\n",
    "        boot_data_2.append(sample_arpu_2)\n",
    "        \n",
    "        \n",
    "    \n",
    "    boot_data_1 = np.array(boot_data_1)\n",
    "    boot_data_2 = np.array(boot_data_2)\n",
    "    \n",
    "    test_group_a = []\n",
    "    for i in range(len(boot_data_1)): test_group_a.append('a')\n",
    "    test_group_a = np.array(test_group_a)\n",
    "    a_group = pd.DataFrame({'arpu': boot_data_1, 'test_group' : test_group_a})\n",
    "    \n",
    "    test_group_b = []\n",
    "    for i in range(len(boot_data_2)): test_group_b.append('b')\n",
    "    test_group_b = np.array(test_group_b)\n",
    "    b_group = pd.DataFrame({'arpu': boot_data_2, 'test_group' : test_group_b})\n",
    "    \n",
    "    arpu = pd.concat([a_group, b_group], axis=0)\n",
    "    \n",
    "    # Выводим доверительные интервалы для получившихся распределений\n",
    "    print('Group A: ', stats.t.interval(0.99, len(boot_data_1)-1, loc=np.mean(boot_data_1), scale=stats.sem(boot_data_1)))\n",
    "    print('Group B: ', stats.t.interval(0.99, len(boot_data_2)-1, loc=np.mean(boot_data_2), scale=stats.sem(boot_data_2)))\n",
    "\n",
    "    \n",
    "    #plt.figure(figsize=(18,5))\n",
    "    sns.pointplot(y = 'arpu', x = 'test_group', hue='test_group', data=arpu, dodge=True, join=False, orient='v', estimator=np.median)\n",
    "    plt.grid()\n",
    "    "
   ]
  },
  {
   "cell_type": "code",
   "execution_count": 32,
   "metadata": {},
   "outputs": [],
   "source": [
    "arpu_group_a = df.query('testgroup == \"a\"').revenue\n",
    "arpu_group_b = df.query('testgroup == \"b\"').revenue"
   ]
  },
  {
   "cell_type": "code",
   "execution_count": 33,
   "metadata": {},
   "outputs": [
    {
     "data": {
      "application/vnd.jupyter.widget-view+json": {
       "model_id": "7c5bfa37e4c240d9b6f0e33847a010c5",
       "version_major": 2,
       "version_minor": 0
      },
      "text/plain": [
       "HBox(children=(FloatProgress(value=0.0, max=2000.0), HTML(value='')))"
      ]
     },
     "metadata": {},
     "output_type": "display_data"
    },
    {
     "name": "stdout",
     "output_type": "stream",
     "text": [
      "\n",
      "Group A:  (25.3255857090968, 25.56438940772044)\n",
      "Group B:  (26.703349393309797, 26.778656503062077)\n"
     ]
    },
    {
     "data": {
      "image/png": "[encoded data removed]",
      "text/plain": [
       "<Figure size 432x288 with 1 Axes>"
      ]
     },
     "metadata": {},
     "output_type": "display_data"
    }
   ],
   "source": [
    "get_bootstrap_ARPU(arpu_group_a, arpu_group_b, boot_it = 2000)"
   ]
  },
  {
   "cell_type": "markdown",
   "metadata": {},
   "source": [
    "Здесь также получены статистически значимые различия, доверительные интервалы также не пересекаются, мы можем отклонить нулевую гипотезу. Такого же результата мы достигаем при удвоении размера выборки и количества итераций."
   ]
  },
  {
   "cell_type": "markdown",
   "metadata": {},
   "source": [
    "# Считаем ARPPU\n",
    "    Н0 - показатель ARPPU в контрольной и тестовой группах статистически не различается, а любые различия следствия случайности.\n",
    "    Н1 - различия показателя ARPPU в группах не случайны и статистически значимы."
   ]
  },
  {
   "cell_type": "code",
   "execution_count": 34,
   "metadata": {},
   "outputs": [],
   "source": [
    "def get_bootstrap_ARPPU(\n",
    "    data_column_1, # числовые значения первой выборки\n",
    "    data_column_2, # числовые значения второй выборки\n",
    "    boot_it = 1000, # количество бутстрэп-подвыборок\n",
    "  \n",
    "    ):\n",
    "    boot_len = max([len(data_column_1), len(data_column_2)])\n",
    "    boot_data_1 = []\n",
    "    boot_data_2 = []\n",
    "    for i in tqdm(range(boot_it)): # извлекаем подвыборки\n",
    "        sample_revenue_1 = data_column_1.sample(boot_len, replace=True)\n",
    "        sample_arpu_1 = sample_revenue_1.sum() / sample_revenue_1.shape[0]\n",
    "        boot_data_1.append(sample_arpu_1)\n",
    "        \n",
    "        sample_revenue_2 = data_column_2.sample(boot_len, replace=True)\n",
    "        sample_arpu_2 = sample_revenue_2.sum() / sample_revenue_2.shape[0]\n",
    "        boot_data_2.append(sample_arpu_2)\n",
    "    \n",
    "     \n",
    "    arppu_a = np.array(boot_data_1)\n",
    "    arppu_b = np.array(boot_data_2)\n",
    "    \n",
    "    \n",
    "    test_group_a = []\n",
    "    for i in range(len(arppu_a)): test_group_a.append('a')\n",
    "    test_group_a = np.array(test_group_a)\n",
    "    a_group = pd.DataFrame({'arppu': arppu_a, 'test_group' : test_group_a})\n",
    "    \n",
    "    test_group_b = []\n",
    "    for i in range(len(arppu_b)): test_group_b.append('b')\n",
    "    test_group_b = np.array(test_group_b)\n",
    "    b_group = pd.DataFrame({'arppu': arppu_b, 'test_group' : test_group_b})\n",
    "    \n",
    "    arppu = pd.concat([a_group, b_group], axis=0)\n",
    "    \n",
    "    # Выводим доверительные интервалы для получившихся распределений\n",
    "    print('Group A: ', stats.t.interval(0.95, len(arppu_a)-1, loc=np.mean(arppu_a), scale=stats.sem(arppu_a)))\n",
    "    print('Group B: ', stats.t.interval(0.95, len(arppu_b)-1, loc=np.mean(arppu_b), scale=stats.sem(arppu_b)))\n",
    "    \n",
    "    #plt.figure(figsize=(18,5))\n",
    "    sns.pointplot(y = 'arppu', x ='test_group', hue='test_group', data=arppu, dodge=True, join=False, orient='v', estimator=np.median)\n",
    "    plt.grid()\n",
    "    \n",
    "    \n",
    "    \n",
    "    "
   ]
  },
  {
   "cell_type": "code",
   "execution_count": 35,
   "metadata": {},
   "outputs": [],
   "source": [
    "arppu_group_a = df.query('revenue > 0 & testgroup == \"a\"').revenue\n",
    "arppu_group_b = df.query('revenue > 0 & testgroup == \"b\"').revenue"
   ]
  },
  {
   "cell_type": "code",
   "execution_count": 36,
   "metadata": {},
   "outputs": [
    {
     "data": {
      "application/vnd.jupyter.widget-view+json": {
       "model_id": "9bcea9195f0f4d25ad3357d9e886a819",
       "version_major": 2,
       "version_minor": 0
      },
      "text/plain": [
       "HBox(children=(FloatProgress(value=0.0, max=2000.0), HTML(value='')))"
      ]
     },
     "metadata": {},
     "output_type": "display_data"
    },
    {
     "name": "stdout",
     "output_type": "stream",
     "text": [
      "\n",
      "Group A:  (2648.073707764398, 2666.354146488714)\n",
      "Group B:  (3003.066347064689, 3004.2056327070945)\n"
     ]
    },
    {
     "data": {
      "image/png": "[encoded data removed]",
      "text/plain": [
       "<Figure size 432x288 with 1 Axes>"
      ]
     },
     "metadata": {},
     "output_type": "display_data"
    }
   ],
   "source": [
    "get_bootstrap_ARPPU(arppu_group_a,arppu_group_b, boot_it = 2000)"
   ]
  },
  {
   "cell_type": "markdown",
   "metadata": {},
   "source": [
    "Как и в других случаях были достигнуты статистически значимые различия, доверительные интервалы также не пересекаются, отклоняем нулевую гипотезу. Такого же результата мы достигаем при удвоении размера выборки, количества итераций и при выборе в качестве оценщика - медианы."
   ]
  },
  {
   "cell_type": "markdown",
   "metadata": {},
   "source": [
    "# Считаем Convertion Rate\n",
    "    Н0 - соотношение количества пользователей оформивших заказ к общему количеству пользователей в контрольной и тестовой группах статистически не различается, а любые различия следствия случайности.\n",
    "    Н1 - различия СR в группах не случайны и статистически значимы."
   ]
  },
  {
   "cell_type": "code",
   "execution_count": 37,
   "metadata": {},
   "outputs": [],
   "source": [
    "def get_bootstrap_CR(\n",
    "    data_column_1, # числовые значения первой выборки\n",
    "    data_column_2, # числовые значения второй выборки\n",
    "    boot_it = 1000, # количество бутстрэп-подвыборок\n",
    "  \n",
    "    ):\n",
    "    boot_len = max([len(data_column_1), len(data_column_2)])\n",
    "    boot_data_1 = []\n",
    "    boot_data_2 = []\n",
    "    for i in tqdm(range(boot_it)): # извлекаем подвыборки\n",
    "        sample_data_1 = data_column_1.sample(boot_len, replace=True)\n",
    "        sample_1 = sample_data_1.query('revenue > 0').shape[0] / sample_data_1.shape[0]\n",
    "        boot_data_1.append(round(sample_1 * 100, 3))\n",
    "        \n",
    "        sample_data_2 = data_column_2.sample(boot_len, replace=True)\n",
    "        sample_2 = sample_data_2.query('revenue > 0').shape[0] / sample_data_2.shape[0]\n",
    "        boot_data_2.append(round(sample_2 * 100, 3))\n",
    "        \n",
    "    \n",
    "     \n",
    "    cr_a = np.array(boot_data_1)\n",
    "    cr_b = np.array(boot_data_2)\n",
    "    \n",
    "    \n",
    "    test_group_a = []\n",
    "    for i in range(len(cr_a)): test_group_a.append('a')\n",
    "    test_group_a = np.array(test_group_a)\n",
    "    a_group = pd.DataFrame({'CR': cr_a, 'test_group' : test_group_a})\n",
    "    \n",
    "    test_group_b = []\n",
    "    for i in range(len(cr_b)): test_group_b.append('b')\n",
    "    test_group_b = np.array(test_group_b)\n",
    "    b_group = pd.DataFrame({'CR': cr_b, 'test_group' : test_group_b})\n",
    "    \n",
    "    cr = pd.concat([a_group, b_group], axis=0)\n",
    "    \n",
    "    \n",
    "    # Выводим доверительные интервалы для получившихся распределений   \n",
    "    print('Group A: ', stats.t.interval(0.95, len(cr_a)-1, loc=np.mean(cr_a), scale=stats.sem(cr_a)))\n",
    "    print('Group B: ', stats.t.interval(0.95, len(cr_b)-1, loc=np.mean(cr_b), scale=stats.sem(cr_b)))\n",
    "    \n",
    "    #plt.figure(figsize=(18,5))\n",
    "    sns.pointplot(y = 'CR', x ='test_group', hue='test_group', data=cr, dodge=True, join=False, orient='v')\n",
    "    plt.grid()\n",
    "\n",
    "    "
   ]
  },
  {
   "cell_type": "code",
   "execution_count": 38,
   "metadata": {},
   "outputs": [],
   "source": [
    "cr_group_a = df.query('testgroup == \"a\"')\n",
    "cr_group_b = df.query('testgroup == \"b\"')"
   ]
  },
  {
   "cell_type": "code",
   "execution_count": 39,
   "metadata": {},
   "outputs": [
    {
     "data": {
      "application/vnd.jupyter.widget-view+json": {
       "model_id": "ab82351b8aad463d99caa304ed2b4e04",
       "version_major": 2,
       "version_minor": 0
      },
      "text/plain": [
       "HBox(children=(FloatProgress(value=0.0, max=2000.0), HTML(value='')))"
      ]
     },
     "metadata": {},
     "output_type": "display_data"
    },
    {
     "name": "stdout",
     "output_type": "stream",
     "text": [
      "\n",
      "Group A:  (0.9531781451715079, 0.9550578548284919)\n",
      "Group B:  (0.889872656752301, 0.8917183432476989)\n"
     ]
    },
    {
     "data": {
      "image/png": "[encoded data removed]",
      "text/plain": [
       "<Figure size 432x288 with 1 Axes>"
      ]
     },
     "metadata": {},
     "output_type": "display_data"
    }
   ],
   "source": [
    "get_bootstrap_CR(cr_group_a, cr_group_b, boot_it = 2000)"
   ]
  },
  {
   "cell_type": "markdown",
   "metadata": {},
   "source": [
    "CR также продемонстрировал статистически значимые различия, доверительные интервалы также не пересеклись и мы отклоняем нулевую гипотезу. Такого же результата мы достигаем при удвоении размера выборки, количества итераций и при выборе в качестве оценщика - медианы."
   ]
  },
  {
   "cell_type": "markdown",
   "metadata": {},
   "source": [
    "# Вывод:"
   ]
  },
  {
   "cell_type": "markdown",
   "metadata": {},
   "source": [
    "    1. Я считаю, что в силу того, что наши пользователи были некорректным образом распределены по группам, не стоит говорить о том, что нами получены статистически достоверные результаты тестирования. Необходимо наладить работу сплит-системы и повторить эксперемент. P.S. исключение из основной выборки наблюдений с revenue > 25000 никак не повлиял на результаты A/A теста.\n",
    "\n",
    "    2. Все же, если ограничиться этим набором данных, то при тестировании гипотез о неравенстве общего дохода, метрик ARPU, ARPPU нами во всех случаях получены статистически значимые различия, которые позволяют говорить о том, что набор акционных предложений, который был предоставлен тестовой группе позволил нам повысить ARPU на 5%, а ARPPU на 12.75% по сравнению с акционным набором предложенным контрольной группе пользователей, а значит именно этот набор можно считать лучшим.\n",
    "\n",
    "    3. В качестве основных метрик, на основании которых стоит принимать решение в данном случае я бы выделил ARPPU, поскольку как мы увидели даже при условии того, что по итогам эксперимента показатель конверсии (CR) снизился, доход с одного платящего пользователя вырос приблизительно на 340($, руб.), что я считаю более важным изменением."
   ]
  },
  {
   "cell_type": "code",
   "execution_count": null,
   "metadata": {},
   "outputs": [],
   "source": []
  },
  {
   "cell_type": "code",
   "execution_count": null,
   "metadata": {},
   "outputs": [],
   "source": []
  },
  {
   "cell_type": "code",
   "execution_count": null,
   "metadata": {},
   "outputs": [],
   "source": []
  }
 ],
 "metadata": {
  "kernelspec": {
   "display_name": "Python 3",
   "language": "python",
   "name": "python3"
  },
  "language_info": {
   "codemirror_mode": {
    "name": "ipython",
    "version": 3
   },
   "file_extension": ".py",
   "mimetype": "text/x-python",
   "name": "python",
   "nbconvert_exporter": "python",
   "pygments_lexer": "ipython3",
   "version": "3.9.4"
  }
 },
 "nbformat": 4,
 "nbformat_minor": 4
}
