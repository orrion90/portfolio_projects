{
 "cells": [
  {
   "cell_type": "code",
   "execution_count": 1,
   "id": "1912fe93-52a0-417d-9179-16e23c061867",
   "metadata": {},
   "outputs": [],
   "source": [
    "import pandas as pd"
   ]
  },
  {
   "cell_type": "code",
   "execution_count": 2,
   "id": "4c2f3a25-1173-4127-bf25-ddb900069a83",
   "metadata": {},
   "outputs": [],
   "source": [
    "source_df = pd.read_excel('tenders_lots2.xlsx')"
   ]
  },
  {
   "cell_type": "code",
   "execution_count": 3,
   "id": "ee499e63-0b73-418c-af32-c39f42dadca7",
   "metadata": {},
   "outputs": [],
   "source": [
    "df = source_df"
   ]
  },
  {
   "cell_type": "code",
   "execution_count": 4,
   "id": "835dc05e-b179-4f49-acf4-743aada66d78",
   "metadata": {},
   "outputs": [],
   "source": [
    "df = df.rename(columns = {'Ідентифікатор лота': 'lot_id',\n",
    "                     'Лот': 'lot',\n",
    "                     'Очікувана вартість': 'expected_cost',\n",
    "                     'Процедура закупівлі': 'procurement_procedure',\n",
    "                     'Статуси процедур': 'status_procedures',\n",
    "                     'Статус лота': 'lot_status',\n",
    "                     '...': 'web_site',\n",
    "                     'Організатор' : 'organizer',\n",
    "                     'Переможець' : 'winner',\n",
    "                     'Ціна за одиницю': 'price_per_unit',\n",
    "                     'Одиниця виміру': 'unit_of_measure',\n",
    "                     'Класифікація CPV': 'classification_cpv',\n",
    "                     'Кіль-ть питань': 'num_questions',\n",
    "                     'Кіль-ть унікальних учасників лота': 'num_of_unique_participants',\n",
    "                     'Кількість дискваліфікацій лота': 'num_of_disq',\n",
    "                     'Кількість скарг лота': 'num_of_complains',\n",
    "                     'Дата публікації процедури': 'date_of_publication_of_the_procedure'})"
   ]
  },
  {
   "cell_type": "code",
   "execution_count": 5,
   "id": "01ce83aa-49db-4165-aac7-2a779894f819",
   "metadata": {},
   "outputs": [
    {
     "data": {
      "text/html": [
       "<div>\n",
       "<style scoped>\n",
       "    .dataframe tbody tr th:only-of-type {\n",
       "        vertical-align: middle;\n",
       "    }\n",
       "\n",
       "    .dataframe tbody tr th {\n",
       "        vertical-align: top;\n",
       "    }\n",
       "\n",
       "    .dataframe thead th {\n",
       "        text-align: right;\n",
       "    }\n",
       "</style>\n",
       "<table border=\"1\" class=\"dataframe\">\n",
       "  <thead>\n",
       "    <tr style=\"text-align: right;\">\n",
       "      <th></th>\n",
       "      <th>lot_id</th>\n",
       "      <th>lot</th>\n",
       "      <th>expected_cost</th>\n",
       "      <th>procurement_procedure</th>\n",
       "      <th>status_procedures</th>\n",
       "      <th>lot_status</th>\n",
       "      <th>web_site</th>\n",
       "      <th>organizer</th>\n",
       "      <th>winner</th>\n",
       "      <th>price_per_unit</th>\n",
       "      <th>unit_of_measure</th>\n",
       "      <th>classification_cpv</th>\n",
       "      <th>num_questions</th>\n",
       "      <th>num_of_unique_participants</th>\n",
       "      <th>num_of_disq</th>\n",
       "      <th>num_of_complaints</th>\n",
       "      <th>date_of_publication_of_the_procedure</th>\n",
       "    </tr>\n",
       "  </thead>\n",
       "  <tbody>\n",
       "    <tr>\n",
       "      <th>0</th>\n",
       "      <td>UA-2020-12-31-005043-c-L1</td>\n",
       "      <td>Картопля</td>\n",
       "      <td>65000.0</td>\n",
       "      <td>Спрощена процедура закупівлі</td>\n",
       "      <td>Завершена закупівля</td>\n",
       "      <td>Завершено лот закупівлі</td>\n",
       "      <td>https://prozorro.gov.ua/tender/UA-2020-12-31-0...</td>\n",
       "      <td>Спеціалізована загальноосвітня І-ІІІ ступенів ...</td>\n",
       "      <td>Фізична особа-підприємець НАУМ ЛЮБОВ АНДРІЇВНА...</td>\n",
       "      <td>7.37</td>\n",
       "      <td>кілограми</td>\n",
       "      <td>03212100-1 Картопля</td>\n",
       "      <td>0</td>\n",
       "      <td>3</td>\n",
       "      <td>0</td>\n",
       "      <td>0</td>\n",
       "      <td>2020-12-31</td>\n",
       "    </tr>\n",
       "    <tr>\n",
       "      <th>1</th>\n",
       "      <td>UA-2020-12-31-005000-c-L1</td>\n",
       "      <td>хек тушка, філе телапії</td>\n",
       "      <td>90000.0</td>\n",
       "      <td>Спрощена процедура закупівлі</td>\n",
       "      <td>Завершена закупівля</td>\n",
       "      <td>Завершено лот закупівлі</td>\n",
       "      <td>https://prozorro.gov.ua/tender/UA-2020-12-31-0...</td>\n",
       "      <td>Спеціалізована загальноосвітня І-ІІІ ступенів ...</td>\n",
       "      <td>ТОВ \"ІНТЕРПРОДСЕРВІС\" | 30145545</td>\n",
       "      <td>-</td>\n",
       "      <td>-</td>\n",
       "      <td>15221000-3 Морожена риба</td>\n",
       "      <td>0</td>\n",
       "      <td>3</td>\n",
       "      <td>0</td>\n",
       "      <td>0</td>\n",
       "      <td>2020-12-31</td>\n",
       "    </tr>\n",
       "    <tr>\n",
       "      <th>2</th>\n",
       "      <td>UA-2020-12-31-004991-c-L1</td>\n",
       "      <td>Картопля продовольча столова</td>\n",
       "      <td>65000.0</td>\n",
       "      <td>Спрощена процедура закупівлі</td>\n",
       "      <td>Завершена закупівля</td>\n",
       "      <td>Завершено лот закупівлі</td>\n",
       "      <td>https://prozorro.gov.ua/tender/UA-2020-12-31-0...</td>\n",
       "      <td>Новосанжарський ліцей Новосанжарської селищної...</td>\n",
       "      <td>Фізична особа-підприємець Марченко Віта Олекса...</td>\n",
       "      <td>9.5</td>\n",
       "      <td>кілограми</td>\n",
       "      <td>03210000-6 Зернові культури та картопля</td>\n",
       "      <td>0</td>\n",
       "      <td>4</td>\n",
       "      <td>0</td>\n",
       "      <td>0</td>\n",
       "      <td>2020-12-31</td>\n",
       "    </tr>\n",
       "  </tbody>\n",
       "</table>\n",
       "</div>"
      ],
      "text/plain": [
       "                      lot_id                           lot  expected_cost  \\\n",
       "0  UA-2020-12-31-005043-c-L1                      Картопля        65000.0   \n",
       "1  UA-2020-12-31-005000-c-L1       хек тушка, філе телапії        90000.0   \n",
       "2  UA-2020-12-31-004991-c-L1  Картопля продовольча столова        65000.0   \n",
       "\n",
       "          procurement_procedure    status_procedures               lot_status  \\\n",
       "0  Спрощена процедура закупівлі  Завершена закупівля  Завершено лот закупівлі   \n",
       "1  Спрощена процедура закупівлі  Завершена закупівля  Завершено лот закупівлі   \n",
       "2  Спрощена процедура закупівлі  Завершена закупівля  Завершено лот закупівлі   \n",
       "\n",
       "                                            web_site  \\\n",
       "0  https://prozorro.gov.ua/tender/UA-2020-12-31-0...   \n",
       "1  https://prozorro.gov.ua/tender/UA-2020-12-31-0...   \n",
       "2  https://prozorro.gov.ua/tender/UA-2020-12-31-0...   \n",
       "\n",
       "                                           organizer  \\\n",
       "0  Спеціалізована загальноосвітня І-ІІІ ступенів ...   \n",
       "1  Спеціалізована загальноосвітня І-ІІІ ступенів ...   \n",
       "2  Новосанжарський ліцей Новосанжарської селищної...   \n",
       "\n",
       "                                              winner price_per_unit  \\\n",
       "0  Фізична особа-підприємець НАУМ ЛЮБОВ АНДРІЇВНА...           7.37   \n",
       "1                   ТОВ \"ІНТЕРПРОДСЕРВІС\" | 30145545              -   \n",
       "2  Фізична особа-підприємець Марченко Віта Олекса...            9.5   \n",
       "\n",
       "  unit_of_measure                       classification_cpv  num_questions  \\\n",
       "0       кілограми                      03212100-1 Картопля              0   \n",
       "1               -                 15221000-3 Морожена риба              0   \n",
       "2       кілограми  03210000-6 Зернові культури та картопля              0   \n",
       "\n",
       "   num_of_unique_participants  num_of_disq  num_of_complaints  \\\n",
       "0                           3            0                  0   \n",
       "1                           3            0                  0   \n",
       "2                           4            0                  0   \n",
       "\n",
       "  date_of_publication_of_the_procedure  \n",
       "0                           2020-12-31  \n",
       "1                           2020-12-31  \n",
       "2                           2020-12-31  "
      ]
     },
     "execution_count": 5,
     "metadata": {},
     "output_type": "execute_result"
    }
   ],
   "source": [
    "df.head(3)"
   ]
  },
  {
   "cell_type": "code",
   "execution_count": 6,
   "id": "16ea39b5-e648-4427-b803-abe0efa417f8",
   "metadata": {},
   "outputs": [],
   "source": [
    "def changer (value):\n",
    "    new_value = value[:22]\n",
    "    return new_value"
   ]
  },
  {
   "cell_type": "code",
   "execution_count": 7,
   "id": "3a43c601-d44b-40eb-9d49-8cd81e09c17d",
   "metadata": {},
   "outputs": [],
   "source": [
    "df['num_of_tender'] = df.lot_id.apply(changer)"
   ]
  },
  {
   "cell_type": "code",
   "execution_count": 8,
   "id": "b87ae590-6442-404a-9b13-45fda2a47024",
   "metadata": {},
   "outputs": [],
   "source": [
    "def changer2 (value):\n",
    "    new_value = value[:2]\n",
    "    return new_value"
   ]
  },
  {
   "cell_type": "code",
   "execution_count": 9,
   "id": "2633d340-67a7-4566-8151-0b963b610ba8",
   "metadata": {},
   "outputs": [],
   "source": [
    "df.classification_cpv = df.classification_cpv.apply(changer2)"
   ]
  },
  {
   "cell_type": "code",
   "execution_count": 10,
   "id": "26649d07-aae1-44a3-81f1-4368f2896e6d",
   "metadata": {},
   "outputs": [],
   "source": [
    "df.num_of_tender = df.num_of_tender.drop_duplicates()"
   ]
  },
  {
   "cell_type": "code",
   "execution_count": 11,
   "id": "a01d9751-265c-4a12-842b-bad47df75ab8",
   "metadata": {},
   "outputs": [],
   "source": [
    "fin_df = df \\\n",
    "    .groupby(['classification_cpv'], as_index=False) \\\n",
    "    .aggregate({'expected_cost': 'sum',\n",
    "                'lot_id': 'count', \\\n",
    "                'num_of_tenders': 'count'}) \\\n",
    "    .rename(columns = {\n",
    "                'classification_cpv': 'Узагальнені категорії CPV',\n",
    "                'expected_cost': 'Загальний очікуваний бюджет лотів',\n",
    "                'lot_id': 'Кількість лотів',\n",
    "                'num_of_tenders': 'Кількість тендерів'})"
   ]
  },
  {
   "cell_type": "code",
   "execution_count": 12,
   "id": "dc26e2a7-e6a5-4440-a37a-254947d6bdc2",
   "metadata": {},
   "outputs": [
    {
     "data": {
      "text/html": [
       "<div>\n",
       "<style scoped>\n",
       "    .dataframe tbody tr th:only-of-type {\n",
       "        vertical-align: middle;\n",
       "    }\n",
       "\n",
       "    .dataframe tbody tr th {\n",
       "        vertical-align: top;\n",
       "    }\n",
       "\n",
       "    .dataframe thead th {\n",
       "        text-align: right;\n",
       "    }\n",
       "</style>\n",
       "<table border=\"1\" class=\"dataframe\">\n",
       "  <thead>\n",
       "    <tr style=\"text-align: right;\">\n",
       "      <th></th>\n",
       "      <th>Узагальнені категорії CPV</th>\n",
       "      <th>Загальний очікуваний бюджет лотів</th>\n",
       "      <th>Кількість лотів</th>\n",
       "      <th>Кількість тендерів</th>\n",
       "    </tr>\n",
       "  </thead>\n",
       "  <tbody>\n",
       "    <tr>\n",
       "      <th>0</th>\n",
       "      <td>-</td>\n",
       "      <td>1.710640e+07</td>\n",
       "      <td>7</td>\n",
       "      <td>3</td>\n",
       "    </tr>\n",
       "    <tr>\n",
       "      <th>1</th>\n",
       "      <td>03</td>\n",
       "      <td>2.752380e+09</td>\n",
       "      <td>9466</td>\n",
       "      <td>8723</td>\n",
       "    </tr>\n",
       "    <tr>\n",
       "      <th>2</th>\n",
       "      <td>09</td>\n",
       "      <td>7.946670e+10</td>\n",
       "      <td>27399</td>\n",
       "      <td>25200</td>\n",
       "    </tr>\n",
       "    <tr>\n",
       "      <th>3</th>\n",
       "      <td>14</td>\n",
       "      <td>2.809950e+09</td>\n",
       "      <td>4044</td>\n",
       "      <td>3486</td>\n",
       "    </tr>\n",
       "    <tr>\n",
       "      <th>4</th>\n",
       "      <td>15</td>\n",
       "      <td>9.064949e+09</td>\n",
       "      <td>30954</td>\n",
       "      <td>28875</td>\n",
       "    </tr>\n",
       "  </tbody>\n",
       "</table>\n",
       "</div>"
      ],
      "text/plain": [
       "  Узагальнені категорії CPV  Загальний очікуваний бюджет лотів  \\\n",
       "0                         -                       1.710640e+07   \n",
       "1                        03                       2.752380e+09   \n",
       "2                        09                       7.946670e+10   \n",
       "3                        14                       2.809950e+09   \n",
       "4                        15                       9.064949e+09   \n",
       "\n",
       "   Кількість лотів  Кількість тендерів  \n",
       "0                7                   3  \n",
       "1             9466                8723  \n",
       "2            27399               25200  \n",
       "3             4044                3486  \n",
       "4            30954               28875  "
      ]
     },
     "execution_count": 12,
     "metadata": {},
     "output_type": "execute_result"
    }
   ],
   "source": [
    "fin_df.head()"
   ]
  },
  {
   "cell_type": "code",
   "execution_count": 13,
   "id": "eade46a0-94e6-4975-81dc-70cd319d2289",
   "metadata": {},
   "outputs": [],
   "source": [
    "fin_df.to_excel('task2_corr1.xlsx', index = False)"
   ]
  },
  {
   "cell_type": "code",
   "execution_count": null,
   "id": "2fd76792",
   "metadata": {},
   "outputs": [],
   "source": []
  },
  {
   "cell_type": "code",
   "execution_count": null,
   "id": "4e3d2bee-7e52-4911-b587-2204dbe69d06",
   "metadata": {},
   "outputs": [],
   "source": []
  },
  {
   "cell_type": "code",
   "execution_count": null,
   "id": "5ee63bd2-510a-49c4-bc39-d7fa2e360c2d",
   "metadata": {},
   "outputs": [],
   "source": []
  }
 ],
 "metadata": {
  "kernelspec": {
   "display_name": "Python 3",
   "language": "python",
   "name": "python3"
  },
  "language_info": {
   "codemirror_mode": {
    "name": "ipython",
    "version": 3
   },
   "file_extension": ".py",
   "mimetype": "text/x-python",
   "name": "python",
   "nbconvert_exporter": "python",
   "pygments_lexer": "ipython3",
   "version": "3.9.4"
  }
 },
 "nbformat": 4,
 "nbformat_minor": 5
}
