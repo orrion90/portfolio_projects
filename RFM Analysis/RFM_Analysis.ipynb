{
 "cells": [
  {
   "cell_type": "markdown",
   "id": "037381b0",
   "metadata": {},
   "source": [
    "Задача:\n",
    "- Существует датасет с данными о покупках за период с января 2016 года по декабрь 2019. Задача найти пользователей, у которых последняя покупка была наименее давно, которые покупают наиболее часто и суммы покупок которых самые большие. Также необходимо найти группу пользователей, для которых целесообразно подобрать программу лояльности для повышения их среднего чека и как результат повышения сумм их покупок."
   ]
  },
  {
   "cell_type": "markdown",
   "id": "dce8bbe1",
   "metadata": {},
   "source": [
    "Для решения поставленной задачи я применю RFM-анализ, который позволит сегментировать пользователей по времени, прошедшем с последней покупки, частосте и общей сумме покупок."
   ]
  },
  {
   "cell_type": "code",
   "execution_count": 1,
   "id": "d2538de5",
   "metadata": {},
   "outputs": [],
   "source": [
    "import pandas as pd\n",
    "import numpy as np\n",
    "import seaborn as sns"
   ]
  },
  {
   "cell_type": "code",
   "execution_count": null,
   "id": "fd8ba498",
   "metadata": {},
   "outputs": [],
   "source": []
  },
  {
   "cell_type": "code",
   "execution_count": 2,
   "id": "7d9900ec",
   "metadata": {},
   "outputs": [],
   "source": [
    "df = pd.read_excel('Sample_-_Superstore.xls')"
   ]
  },
  {
   "cell_type": "code",
   "execution_count": 3,
   "id": "ddb92ea7",
   "metadata": {},
   "outputs": [
    {
     "data": {
      "text/html": [
       "<div>\n",
       "<style scoped>\n",
       "    .dataframe tbody tr th:only-of-type {\n",
       "        vertical-align: middle;\n",
       "    }\n",
       "\n",
       "    .dataframe tbody tr th {\n",
       "        vertical-align: top;\n",
       "    }\n",
       "\n",
       "    .dataframe thead th {\n",
       "        text-align: right;\n",
       "    }\n",
       "</style>\n",
       "<table border=\"1\" class=\"dataframe\">\n",
       "  <thead>\n",
       "    <tr style=\"text-align: right;\">\n",
       "      <th></th>\n",
       "      <th>Row ID</th>\n",
       "      <th>Order ID</th>\n",
       "      <th>Order Date</th>\n",
       "      <th>Ship Date</th>\n",
       "      <th>Ship Mode</th>\n",
       "      <th>Customer ID</th>\n",
       "      <th>Customer Name</th>\n",
       "      <th>Segment</th>\n",
       "      <th>Country/Region</th>\n",
       "      <th>City</th>\n",
       "      <th>...</th>\n",
       "      <th>Postal Code</th>\n",
       "      <th>Region</th>\n",
       "      <th>Product ID</th>\n",
       "      <th>Category</th>\n",
       "      <th>Sub-Category</th>\n",
       "      <th>Product Name</th>\n",
       "      <th>Sales</th>\n",
       "      <th>Quantity</th>\n",
       "      <th>Discount</th>\n",
       "      <th>Profit</th>\n",
       "    </tr>\n",
       "  </thead>\n",
       "  <tbody>\n",
       "    <tr>\n",
       "      <th>0</th>\n",
       "      <td>1</td>\n",
       "      <td>CA-2018-152156</td>\n",
       "      <td>2018-11-08</td>\n",
       "      <td>2018-11-11</td>\n",
       "      <td>Second Class</td>\n",
       "      <td>CG-12520</td>\n",
       "      <td>Claire Gute</td>\n",
       "      <td>Consumer</td>\n",
       "      <td>United States</td>\n",
       "      <td>Henderson</td>\n",
       "      <td>...</td>\n",
       "      <td>42420.0</td>\n",
       "      <td>South</td>\n",
       "      <td>FUR-BO-10001798</td>\n",
       "      <td>Furniture</td>\n",
       "      <td>Bookcases</td>\n",
       "      <td>Bush Somerset Collection Bookcase</td>\n",
       "      <td>261.96</td>\n",
       "      <td>2</td>\n",
       "      <td>0.0</td>\n",
       "      <td>41.9136</td>\n",
       "    </tr>\n",
       "    <tr>\n",
       "      <th>1</th>\n",
       "      <td>2</td>\n",
       "      <td>CA-2018-152156</td>\n",
       "      <td>2018-11-08</td>\n",
       "      <td>2018-11-11</td>\n",
       "      <td>Second Class</td>\n",
       "      <td>CG-12520</td>\n",
       "      <td>Claire Gute</td>\n",
       "      <td>Consumer</td>\n",
       "      <td>United States</td>\n",
       "      <td>Henderson</td>\n",
       "      <td>...</td>\n",
       "      <td>42420.0</td>\n",
       "      <td>South</td>\n",
       "      <td>FUR-CH-10000454</td>\n",
       "      <td>Furniture</td>\n",
       "      <td>Chairs</td>\n",
       "      <td>Hon Deluxe Fabric Upholstered Stacking Chairs,...</td>\n",
       "      <td>731.94</td>\n",
       "      <td>3</td>\n",
       "      <td>0.0</td>\n",
       "      <td>219.5820</td>\n",
       "    </tr>\n",
       "  </tbody>\n",
       "</table>\n",
       "<p>2 rows × 21 columns</p>\n",
       "</div>"
      ],
      "text/plain": [
       "   Row ID        Order ID Order Date  Ship Date     Ship Mode Customer ID  \\\n",
       "0       1  CA-2018-152156 2018-11-08 2018-11-11  Second Class    CG-12520   \n",
       "1       2  CA-2018-152156 2018-11-08 2018-11-11  Second Class    CG-12520   \n",
       "\n",
       "  Customer Name   Segment Country/Region       City  ... Postal Code  Region  \\\n",
       "0   Claire Gute  Consumer  United States  Henderson  ...     42420.0   South   \n",
       "1   Claire Gute  Consumer  United States  Henderson  ...     42420.0   South   \n",
       "\n",
       "        Product ID   Category Sub-Category  \\\n",
       "0  FUR-BO-10001798  Furniture    Bookcases   \n",
       "1  FUR-CH-10000454  Furniture       Chairs   \n",
       "\n",
       "                                        Product Name   Sales  Quantity  \\\n",
       "0                  Bush Somerset Collection Bookcase  261.96         2   \n",
       "1  Hon Deluxe Fabric Upholstered Stacking Chairs,...  731.94         3   \n",
       "\n",
       "   Discount    Profit  \n",
       "0       0.0   41.9136  \n",
       "1       0.0  219.5820  \n",
       "\n",
       "[2 rows x 21 columns]"
      ]
     },
     "execution_count": 3,
     "metadata": {},
     "output_type": "execute_result"
    }
   ],
   "source": [
    "df.head(2)"
   ]
  },
  {
   "cell_type": "markdown",
   "id": "e0da8967",
   "metadata": {},
   "source": [
    "Определяем временные рамки набора данных:"
   ]
  },
  {
   "cell_type": "code",
   "execution_count": 5,
   "id": "9c39137f",
   "metadata": {},
   "outputs": [
    {
     "data": {
      "text/plain": [
       "Timestamp('2016-01-03 00:00:00')"
      ]
     },
     "execution_count": 5,
     "metadata": {},
     "output_type": "execute_result"
    }
   ],
   "source": [
    "df['Order Date'].min()"
   ]
  },
  {
   "cell_type": "code",
   "execution_count": 7,
   "id": "964be106",
   "metadata": {},
   "outputs": [
    {
     "data": {
      "text/plain": [
       "Timestamp('2019-12-30 00:00:00')"
      ]
     },
     "execution_count": 7,
     "metadata": {},
     "output_type": "execute_result"
    }
   ],
   "source": [
    "df['Order Date'].max()"
   ]
  },
  {
   "cell_type": "code",
   "execution_count": null,
   "id": "824dd0d7",
   "metadata": {},
   "outputs": [],
   "source": []
  },
  {
   "cell_type": "markdown",
   "id": "1a18b476",
   "metadata": {},
   "source": [
    "Отбросим лишние данные"
   ]
  },
  {
   "cell_type": "code",
   "execution_count": 8,
   "id": "ff2bddf1",
   "metadata": {},
   "outputs": [],
   "source": [
    "df = df[['Order ID','Customer ID','Order Date', 'Sales', 'Quantity']]"
   ]
  },
  {
   "cell_type": "code",
   "execution_count": 9,
   "id": "62aff23c",
   "metadata": {},
   "outputs": [],
   "source": [
    "new_col = [x.lower().replace(' ', '_') for x in df.columns.tolist()]"
   ]
  },
  {
   "cell_type": "code",
   "execution_count": 10,
   "id": "e03d4805",
   "metadata": {},
   "outputs": [],
   "source": [
    "df.set_axis(new_col, axis=1, inplace=True)"
   ]
  },
  {
   "cell_type": "code",
   "execution_count": 11,
   "id": "f0ec12c0",
   "metadata": {},
   "outputs": [
    {
     "data": {
      "text/plain": [
       "order_id               object\n",
       "customer_id            object\n",
       "order_date     datetime64[ns]\n",
       "sales                 float64\n",
       "quantity                int64\n",
       "dtype: object"
      ]
     },
     "execution_count": 11,
     "metadata": {},
     "output_type": "execute_result"
    }
   ],
   "source": [
    "df.dtypes"
   ]
  },
  {
   "cell_type": "code",
   "execution_count": 12,
   "id": "ad6d57ca",
   "metadata": {},
   "outputs": [
    {
     "name": "stderr",
     "output_type": "stream",
     "text": [
      "<ipython-input-12-5f46e0542a7f>:1: SettingWithCopyWarning: \n",
      "A value is trying to be set on a copy of a slice from a DataFrame.\n",
      "Try using .loc[row_indexer,col_indexer] = value instead\n",
      "\n",
      "See the caveats in the documentation: https://pandas.pydata.org/pandas-docs/stable/user_guide/indexing.html#returning-a-view-versus-a-copy\n",
      "  df['margin'] = df.sales * df.quantity\n"
     ]
    }
   ],
   "source": [
    "df['margin'] = df.sales * df.quantity"
   ]
  },
  {
   "cell_type": "code",
   "execution_count": 13,
   "id": "48b0f2e0",
   "metadata": {},
   "outputs": [
    {
     "name": "stderr",
     "output_type": "stream",
     "text": [
      "c:\\users\\ohrem\\appdata\\local\\programs\\python\\python39\\lib\\site-packages\\pandas\\core\\frame.py:4308: SettingWithCopyWarning: \n",
      "A value is trying to be set on a copy of a slice from a DataFrame\n",
      "\n",
      "See the caveats in the documentation: https://pandas.pydata.org/pandas-docs/stable/user_guide/indexing.html#returning-a-view-versus-a-copy\n",
      "  return super().drop(\n"
     ]
    }
   ],
   "source": [
    "df.drop(['sales', 'quantity'], axis=1, inplace=True)"
   ]
  },
  {
   "cell_type": "code",
   "execution_count": 14,
   "id": "3b4a3b4e",
   "metadata": {},
   "outputs": [
    {
     "data": {
      "text/html": [
       "<div>\n",
       "<style scoped>\n",
       "    .dataframe tbody tr th:only-of-type {\n",
       "        vertical-align: middle;\n",
       "    }\n",
       "\n",
       "    .dataframe tbody tr th {\n",
       "        vertical-align: top;\n",
       "    }\n",
       "\n",
       "    .dataframe thead th {\n",
       "        text-align: right;\n",
       "    }\n",
       "</style>\n",
       "<table border=\"1\" class=\"dataframe\">\n",
       "  <thead>\n",
       "    <tr style=\"text-align: right;\">\n",
       "      <th></th>\n",
       "      <th>order_id</th>\n",
       "      <th>customer_id</th>\n",
       "      <th>order_date</th>\n",
       "      <th>margin</th>\n",
       "    </tr>\n",
       "  </thead>\n",
       "  <tbody>\n",
       "    <tr>\n",
       "      <th>0</th>\n",
       "      <td>CA-2018-152156</td>\n",
       "      <td>CG-12520</td>\n",
       "      <td>2018-11-08</td>\n",
       "      <td>523.9200</td>\n",
       "    </tr>\n",
       "    <tr>\n",
       "      <th>1</th>\n",
       "      <td>CA-2018-152156</td>\n",
       "      <td>CG-12520</td>\n",
       "      <td>2018-11-08</td>\n",
       "      <td>2195.8200</td>\n",
       "    </tr>\n",
       "    <tr>\n",
       "      <th>2</th>\n",
       "      <td>CA-2018-138688</td>\n",
       "      <td>DV-13045</td>\n",
       "      <td>2018-06-12</td>\n",
       "      <td>29.2400</td>\n",
       "    </tr>\n",
       "    <tr>\n",
       "      <th>3</th>\n",
       "      <td>US-2017-108966</td>\n",
       "      <td>SO-20335</td>\n",
       "      <td>2017-10-11</td>\n",
       "      <td>4787.8875</td>\n",
       "    </tr>\n",
       "    <tr>\n",
       "      <th>4</th>\n",
       "      <td>US-2017-108966</td>\n",
       "      <td>SO-20335</td>\n",
       "      <td>2017-10-11</td>\n",
       "      <td>44.7360</td>\n",
       "    </tr>\n",
       "  </tbody>\n",
       "</table>\n",
       "</div>"
      ],
      "text/plain": [
       "         order_id customer_id order_date     margin\n",
       "0  CA-2018-152156    CG-12520 2018-11-08   523.9200\n",
       "1  CA-2018-152156    CG-12520 2018-11-08  2195.8200\n",
       "2  CA-2018-138688    DV-13045 2018-06-12    29.2400\n",
       "3  US-2017-108966    SO-20335 2017-10-11  4787.8875\n",
       "4  US-2017-108966    SO-20335 2017-10-11    44.7360"
      ]
     },
     "execution_count": 14,
     "metadata": {},
     "output_type": "execute_result"
    }
   ],
   "source": [
    "df.head()"
   ]
  },
  {
   "cell_type": "code",
   "execution_count": 15,
   "id": "c56c1a52",
   "metadata": {},
   "outputs": [],
   "source": [
    "# определим дату, от которой будем считать давность последних покупок\n",
    "last_date = df.order_date.max()"
   ]
  },
  {
   "cell_type": "markdown",
   "id": "c06aeeab",
   "metadata": {},
   "source": [
    "Определим для каждого пользователя:\n",
    "1. Количество дней прошедших с последней покупки\n",
    "2. Количестов покупок за весь срок\n",
    "3. Общая сумма покупок"
   ]
  },
  {
   "cell_type": "code",
   "execution_count": 16,
   "id": "50c4d085",
   "metadata": {},
   "outputs": [],
   "source": [
    "rfm_Table = df.groupby('customer_id').agg({'order_date': lambda x: (last_date - x.max()).days, \\\n",
    "                                'order_id': lambda x: len(x), \\\n",
    "                                'margin' : lambda x: x.sum()})"
   ]
  },
  {
   "cell_type": "code",
   "execution_count": 17,
   "id": "8d4a8030",
   "metadata": {},
   "outputs": [],
   "source": [
    "rfm_Table.rename(columns={'order_date' : 'recency',\n",
    "                          'order_id': 'frequency',\n",
    "                          'margin': 'monetary_value'}, inplace=True)"
   ]
  },
  {
   "cell_type": "code",
   "execution_count": 18,
   "id": "ee4b6b99",
   "metadata": {},
   "outputs": [
    {
     "data": {
      "text/html": [
       "<div>\n",
       "<style scoped>\n",
       "    .dataframe tbody tr th:only-of-type {\n",
       "        vertical-align: middle;\n",
       "    }\n",
       "\n",
       "    .dataframe tbody tr th {\n",
       "        vertical-align: top;\n",
       "    }\n",
       "\n",
       "    .dataframe thead th {\n",
       "        text-align: right;\n",
       "    }\n",
       "</style>\n",
       "<table border=\"1\" class=\"dataframe\">\n",
       "  <thead>\n",
       "    <tr style=\"text-align: right;\">\n",
       "      <th></th>\n",
       "      <th>recency</th>\n",
       "      <th>frequency</th>\n",
       "      <th>monetary_value</th>\n",
       "    </tr>\n",
       "    <tr>\n",
       "      <th>customer_id</th>\n",
       "      <th></th>\n",
       "      <th></th>\n",
       "      <th></th>\n",
       "    </tr>\n",
       "  </thead>\n",
       "  <tbody>\n",
       "    <tr>\n",
       "      <th>AA-10315</th>\n",
       "      <td>184</td>\n",
       "      <td>11</td>\n",
       "      <td>16073.344</td>\n",
       "    </tr>\n",
       "    <tr>\n",
       "      <th>AA-10375</th>\n",
       "      <td>19</td>\n",
       "      <td>15</td>\n",
       "      <td>2734.830</td>\n",
       "    </tr>\n",
       "    <tr>\n",
       "      <th>AA-10480</th>\n",
       "      <td>259</td>\n",
       "      <td>12</td>\n",
       "      <td>5493.936</td>\n",
       "    </tr>\n",
       "    <tr>\n",
       "      <th>AA-10645</th>\n",
       "      <td>55</td>\n",
       "      <td>18</td>\n",
       "      <td>22927.855</td>\n",
       "    </tr>\n",
       "    <tr>\n",
       "      <th>AB-10015</th>\n",
       "      <td>415</td>\n",
       "      <td>6</td>\n",
       "      <td>1984.480</td>\n",
       "    </tr>\n",
       "    <tr>\n",
       "      <th>...</th>\n",
       "      <td>...</td>\n",
       "      <td>...</td>\n",
       "      <td>...</td>\n",
       "    </tr>\n",
       "    <tr>\n",
       "      <th>XP-21865</th>\n",
       "      <td>43</td>\n",
       "      <td>28</td>\n",
       "      <td>8676.214</td>\n",
       "    </tr>\n",
       "    <tr>\n",
       "      <th>YC-21895</th>\n",
       "      <td>4</td>\n",
       "      <td>8</td>\n",
       "      <td>27208.926</td>\n",
       "    </tr>\n",
       "    <tr>\n",
       "      <th>YS-21880</th>\n",
       "      <td>9</td>\n",
       "      <td>12</td>\n",
       "      <td>46478.992</td>\n",
       "    </tr>\n",
       "    <tr>\n",
       "      <th>ZC-21910</th>\n",
       "      <td>54</td>\n",
       "      <td>31</td>\n",
       "      <td>40212.889</td>\n",
       "    </tr>\n",
       "    <tr>\n",
       "      <th>ZD-21925</th>\n",
       "      <td>202</td>\n",
       "      <td>9</td>\n",
       "      <td>6492.448</td>\n",
       "    </tr>\n",
       "  </tbody>\n",
       "</table>\n",
       "<p>793 rows × 3 columns</p>\n",
       "</div>"
      ],
      "text/plain": [
       "             recency  frequency  monetary_value\n",
       "customer_id                                    \n",
       "AA-10315         184         11       16073.344\n",
       "AA-10375          19         15        2734.830\n",
       "AA-10480         259         12        5493.936\n",
       "AA-10645          55         18       22927.855\n",
       "AB-10015         415          6        1984.480\n",
       "...              ...        ...             ...\n",
       "XP-21865          43         28        8676.214\n",
       "YC-21895           4          8       27208.926\n",
       "YS-21880           9         12       46478.992\n",
       "ZC-21910          54         31       40212.889\n",
       "ZD-21925         202          9        6492.448\n",
       "\n",
       "[793 rows x 3 columns]"
      ]
     },
     "execution_count": 18,
     "metadata": {},
     "output_type": "execute_result"
    }
   ],
   "source": [
    "rfm_Table"
   ]
  },
  {
   "cell_type": "code",
   "execution_count": 19,
   "id": "60c451ac",
   "metadata": {},
   "outputs": [],
   "source": [
    "rfmSegmentation = rfm_Table[:]"
   ]
  },
  {
   "cell_type": "code",
   "execution_count": 20,
   "id": "d7426c51",
   "metadata": {},
   "outputs": [
    {
     "data": {
      "text/html": [
       "<div>\n",
       "<style scoped>\n",
       "    .dataframe tbody tr th:only-of-type {\n",
       "        vertical-align: middle;\n",
       "    }\n",
       "\n",
       "    .dataframe tbody tr th {\n",
       "        vertical-align: top;\n",
       "    }\n",
       "\n",
       "    .dataframe thead th {\n",
       "        text-align: right;\n",
       "    }\n",
       "</style>\n",
       "<table border=\"1\" class=\"dataframe\">\n",
       "  <thead>\n",
       "    <tr style=\"text-align: right;\">\n",
       "      <th></th>\n",
       "      <th>recency</th>\n",
       "      <th>frequency</th>\n",
       "      <th>monetary_value</th>\n",
       "    </tr>\n",
       "  </thead>\n",
       "  <tbody>\n",
       "    <tr>\n",
       "      <th>0.25</th>\n",
       "      <td>30.0</td>\n",
       "      <td>8.0</td>\n",
       "      <td>4768.010</td>\n",
       "    </tr>\n",
       "    <tr>\n",
       "      <th>0.50</th>\n",
       "      <td>75.0</td>\n",
       "      <td>12.0</td>\n",
       "      <td>9974.654</td>\n",
       "    </tr>\n",
       "    <tr>\n",
       "      <th>0.75</th>\n",
       "      <td>183.0</td>\n",
       "      <td>16.0</td>\n",
       "      <td>18527.648</td>\n",
       "    </tr>\n",
       "  </tbody>\n",
       "</table>\n",
       "</div>"
      ],
      "text/plain": [
       "      recency  frequency  monetary_value\n",
       "0.25     30.0        8.0        4768.010\n",
       "0.50     75.0       12.0        9974.654\n",
       "0.75    183.0       16.0       18527.648"
      ]
     },
     "execution_count": 20,
     "metadata": {},
     "output_type": "execute_result"
    }
   ],
   "source": [
    "# определим границы для деления пользователей на группы.\n",
    "quantiles = rfm_Table.quantile(q=[0.25, 0.5, 0.75])\n",
    "quantiles"
   ]
  },
  {
   "cell_type": "markdown",
   "id": "b87df039",
   "metadata": {},
   "source": [
    "Итак, пльзователи будут разделены по 3 признакам на 4 группы:\n",
    "- recency: 1-я группа от 0 до 30 дней, 2-я от 31 до 75, 3-я от 76 до 183, 4-я от 184 дней.\n",
    "- frequency: 1-я группа от 16 раз, 2-я от 15 до 12, 3-я от 11 до 8, 4-я менее 8 раз.\n",
    "- monetary_value: 1-я группа от 18527.65, 2-я от 18527.64 до 9974.65, 3-я от 9974.64 до 4768.01, 4-я менее 4768."
   ]
  },
  {
   "cell_type": "markdown",
   "id": "fbe19756",
   "metadata": {},
   "source": [
    "Определим две функции:\n",
    "1. Будем использовать для разделения пользователей на 4 группы в зависимости от давности последней покупки. Чем меньше дней прошло с последней покупки тем меньше число группы (RClass).\n",
    "2. Будем использовать для разделения пользователей на группы в зависимости от частоты и суммы покупок. Чем меньше количество и сумма покупок тем меньше число группы (FMSlass)."
   ]
  },
  {
   "cell_type": "code",
   "execution_count": 21,
   "id": "7359958f",
   "metadata": {},
   "outputs": [],
   "source": [
    "def RClass(value,parameter_name,quantiles_table):\n",
    "    if value <= quantiles_table[parameter_name][0.25]:\n",
    "        return 1\n",
    "    elif value <= quantiles_table[parameter_name][0.50]:\n",
    "        return 2\n",
    "    elif value <= quantiles_table[parameter_name][0.75]: \n",
    "        return 3\n",
    "    else:\n",
    "        return 4\n",
    "\n",
    "\n",
    "def FMClass(value, parameter_name,quantiles_table):\n",
    "    if value <= quantiles_table[parameter_name][0.25]:\n",
    "        return 4\n",
    "    elif value <= quantiles_table[parameter_name][0.50]:\n",
    "        return 3\n",
    "    elif value <= quantiles_table[parameter_name][0.75]: \n",
    "        return 2\n",
    "    else:\n",
    "        return 1\n"
   ]
  },
  {
   "cell_type": "code",
   "execution_count": 22,
   "id": "68bf8f68",
   "metadata": {},
   "outputs": [
    {
     "name": "stderr",
     "output_type": "stream",
     "text": [
      "<ipython-input-22-aa72363cc0e7>:1: SettingWithCopyWarning: \n",
      "A value is trying to be set on a copy of a slice from a DataFrame.\n",
      "Try using .loc[row_indexer,col_indexer] = value instead\n",
      "\n",
      "See the caveats in the documentation: https://pandas.pydata.org/pandas-docs/stable/user_guide/indexing.html#returning-a-view-versus-a-copy\n",
      "  rfmSegmentation['R_Quartile'] = rfmSegmentation['recency'].apply(RClass, args=('recency',quantiles))\n",
      "<ipython-input-22-aa72363cc0e7>:3: SettingWithCopyWarning: \n",
      "A value is trying to be set on a copy of a slice from a DataFrame.\n",
      "Try using .loc[row_indexer,col_indexer] = value instead\n",
      "\n",
      "See the caveats in the documentation: https://pandas.pydata.org/pandas-docs/stable/user_guide/indexing.html#returning-a-view-versus-a-copy\n",
      "  rfmSegmentation['F_Quartile'] = rfmSegmentation['frequency'].apply(FMClass, args=('frequency',quantiles))\n",
      "<ipython-input-22-aa72363cc0e7>:5: SettingWithCopyWarning: \n",
      "A value is trying to be set on a copy of a slice from a DataFrame.\n",
      "Try using .loc[row_indexer,col_indexer] = value instead\n",
      "\n",
      "See the caveats in the documentation: https://pandas.pydata.org/pandas-docs/stable/user_guide/indexing.html#returning-a-view-versus-a-copy\n",
      "  rfmSegmentation['M_Quartile'] = rfmSegmentation['monetary_value'].apply(FMClass, args=('monetary_value',quantiles))\n",
      "<ipython-input-22-aa72363cc0e7>:7: SettingWithCopyWarning: \n",
      "A value is trying to be set on a copy of a slice from a DataFrame.\n",
      "Try using .loc[row_indexer,col_indexer] = value instead\n",
      "\n",
      "See the caveats in the documentation: https://pandas.pydata.org/pandas-docs/stable/user_guide/indexing.html#returning-a-view-versus-a-copy\n",
      "  rfmSegmentation['RFMClass'] = rfmSegmentation.R_Quartile.map(str) \\\n"
     ]
    }
   ],
   "source": [
    "rfmSegmentation['R_Quartile'] = rfmSegmentation['recency'].apply(RClass, args=('recency',quantiles))\n",
    "\n",
    "rfmSegmentation['F_Quartile'] = rfmSegmentation['frequency'].apply(FMClass, args=('frequency',quantiles))\n",
    "\n",
    "rfmSegmentation['M_Quartile'] = rfmSegmentation['monetary_value'].apply(FMClass, args=('monetary_value',quantiles))\n",
    "\n",
    "rfmSegmentation['RFMClass'] = rfmSegmentation.R_Quartile.map(str) \\\n",
    "                            + rfmSegmentation.F_Quartile.map(str) \\\n",
    "                            + rfmSegmentation.M_Quartile.map(str)"
   ]
  },
  {
   "cell_type": "code",
   "execution_count": 23,
   "id": "65e2e1ff",
   "metadata": {},
   "outputs": [],
   "source": [
    "rfmSegmentation.reset_index(inplace=True)"
   ]
  },
  {
   "cell_type": "code",
   "execution_count": 24,
   "id": "bcb295c7",
   "metadata": {},
   "outputs": [
    {
     "name": "stderr",
     "output_type": "stream",
     "text": [
      "c:\\users\\ohrem\\appdata\\local\\programs\\python\\python39\\lib\\site-packages\\pandas\\core\\generic.py:5494: SettingWithCopyWarning: \n",
      "A value is trying to be set on a copy of a slice from a DataFrame.\n",
      "Try using .loc[row_indexer,col_indexer] = value instead\n",
      "\n",
      "See the caveats in the documentation: https://pandas.pydata.org/pandas-docs/stable/user_guide/indexing.html#returning-a-view-versus-a-copy\n",
      "  self[name] = value\n"
     ]
    }
   ],
   "source": [
    "rfmSegmentation.RFMClass = rfmSegmentation.RFMClass.astype(int)"
   ]
  },
  {
   "cell_type": "markdown",
   "id": "2d5b9ac5",
   "metadata": {},
   "source": [
    "Перед нами посталено по-сути две задачи:\n",
    "1. Найти пользователей, у которых последняя покупка была наименее давно, которые покупают наиболее часто и суммы покупок которых самые большие.\n",
    "2. Найти группу пользователей, для которых целесообразно подобрать программу лояльности для повышения их среднего чека и как результат повышения сумм их покупок."
   ]
  },
  {
   "cell_type": "markdown",
   "id": "d288bca0",
   "metadata": {},
   "source": [
    "Для первой задачи нам необходима группа пользователей, у которой значене RFMClass состаляет 111"
   ]
  },
  {
   "cell_type": "code",
   "execution_count": 25,
   "id": "edb94d7e",
   "metadata": {},
   "outputs": [
    {
     "data": {
      "text/plain": [
       "27"
      ]
     },
     "execution_count": 25,
     "metadata": {},
     "output_type": "execute_result"
    }
   ],
   "source": [
    "rfmSegmentation[rfmSegmentation.RFMClass == 111].customer_id.count()"
   ]
  },
  {
   "cell_type": "code",
   "execution_count": 26,
   "id": "0218cbb3",
   "metadata": {},
   "outputs": [],
   "source": [
    "top_users = rfmSegmentation[rfmSegmentation.RFMClass == 111].customer_id.tolist()"
   ]
  },
  {
   "cell_type": "code",
   "execution_count": 27,
   "id": "8a1996ac",
   "metadata": {},
   "outputs": [
    {
     "data": {
      "text/plain": [
       "['AI-10855',\n",
       " 'BB-11545',\n",
       " 'BH-11710',\n",
       " 'BP-11185',\n",
       " 'CC-12220',\n",
       " 'DK-13225',\n",
       " 'DR-12880',\n",
       " 'EP-13915',\n",
       " 'ES-14080',\n",
       " 'HM-14860',\n",
       " 'JG-15160',\n",
       " 'JL-15835',\n",
       " 'KH-16510',\n",
       " 'KL-16555',\n",
       " 'LC-16885',\n",
       " 'MH-18115',\n",
       " 'MP-18175',\n",
       " 'ND-18370',\n",
       " 'NP-18325',\n",
       " 'PK-19075',\n",
       " 'PO-18850',\n",
       " 'RB-19465',\n",
       " 'SC-20380',\n",
       " 'SE-20110',\n",
       " 'SM-20950',\n",
       " 'VW-21775',\n",
       " 'WB-21850']"
      ]
     },
     "execution_count": 27,
     "metadata": {},
     "output_type": "execute_result"
    }
   ],
   "source": [
    "top_users"
   ]
  },
  {
   "cell_type": "markdown",
   "id": "86dc337f",
   "metadata": {},
   "source": [
    "Для второй задачи нам можно подобрать разные группы пользователей, но я считаю, что наиболее перспективной группой в контексте поставленной задачи может быть группа пользователей, у которой давность совершения покупки минимальна, т.е. 1-я группа recency. Частота совершения покупок 2-я группа (от 15 до 12 раз) и сумма покупок которых также относятся к второй группе (от 18527.64 до 9974.65). Итого, нам требуются пользователи, RFMClass которых соответствует значению 122."
   ]
  },
  {
   "cell_type": "code",
   "execution_count": 29,
   "id": "59eac47c",
   "metadata": {},
   "outputs": [],
   "source": [
    "perspective_users = rfmSegmentation[rfmSegmentation.RFMClass == 122].customer_id.tolist()"
   ]
  },
  {
   "cell_type": "code",
   "execution_count": 30,
   "id": "d3b19465",
   "metadata": {},
   "outputs": [
    {
     "data": {
      "text/plain": [
       "['AS-10225',\n",
       " 'BP-11290',\n",
       " 'BS-11380',\n",
       " 'CC-12670',\n",
       " 'CS-12400',\n",
       " 'DM-13345',\n",
       " 'DP-13105',\n",
       " 'DV-13465',\n",
       " 'FP-14320',\n",
       " 'GZ-14470',\n",
       " 'JF-15415',\n",
       " 'JP-15520',\n",
       " 'KH-16360',\n",
       " 'LH-16900',\n",
       " 'LP-17095',\n",
       " 'LR-16915',\n",
       " 'MC-17845',\n",
       " 'ML-17755',\n",
       " 'MM-17920',\n",
       " 'MY-17380',\n",
       " 'PO-18865',\n",
       " 'RB-19435',\n",
       " 'SO-20335',\n",
       " 'SV-20935',\n",
       " 'TB-21625']"
      ]
     },
     "execution_count": 30,
     "metadata": {},
     "output_type": "execute_result"
    }
   ],
   "source": [
    "perspective_users"
   ]
  },
  {
   "cell_type": "markdown",
   "id": "e9129ddc",
   "metadata": {},
   "source": [
    "Дополнительно посмотрим на количество пользователей в группах по recency и frequancy:"
   ]
  },
  {
   "cell_type": "code",
   "execution_count": 31,
   "id": "97582871",
   "metadata": {},
   "outputs": [],
   "source": [
    "a = pd.crosstab(index = rfmSegmentation['R_Quartile'], columns = rfmSegmentation['F_Quartile'])"
   ]
  },
  {
   "cell_type": "code",
   "execution_count": 32,
   "id": "21dfbea1",
   "metadata": {},
   "outputs": [
    {
     "data": {
      "text/plain": [
       "<AxesSubplot:xlabel='F_Quartile', ylabel='R_Quartile'>"
      ]
     },
     "execution_count": 32,
     "metadata": {},
     "output_type": "execute_result"
    },
    {
     "data": {
      "image/png": "[encoded data removed]",
      "text/plain": [
       "<Figure size 432x288 with 2 Axes>"
      ]
     },
     "metadata": {
      "needs_background": "light"
     },
     "output_type": "display_data"
    }
   ],
   "source": [
    "sns.heatmap(a, annot=True, cmap=\"YlGnBu\")"
   ]
  },
  {
   "cell_type": "markdown",
   "id": "556de579",
   "metadata": {},
   "source": [
    "Теперь посмотрим в какой из групп самый большой медианный доход:"
   ]
  },
  {
   "cell_type": "code",
   "execution_count": 33,
   "id": "01c2d769",
   "metadata": {},
   "outputs": [
    {
     "data": {
      "image/png": "[encoded data removed]",
      "text/plain": [
       "<Figure size 432x288 with 2 Axes>"
      ]
     },
     "metadata": {
      "needs_background": "light"
     },
     "output_type": "display_data"
    }
   ],
   "source": [
    "rfm_table = rfmSegmentation.pivot_table(\n",
    "                        index='R_Quartile', \n",
    "                        columns='F_Quartile', \n",
    "                        values='monetary_value', \n",
    "                        aggfunc=np.median).applymap(int)\n",
    "sns.heatmap(rfm_table, cmap=\"YlGnBu\", annot=True, fmt=\".0f\", linewidths=4.15, annot_kws={\"size\": 10},yticklabels=4);"
   ]
  },
  {
   "cell_type": "markdown",
   "id": "6c738bd1",
   "metadata": {},
   "source": [
    "# Заключение:\n",
    "1. Пользователи, у которых последняя покупка была наименее давно, которые покупают наиболее часто и суммы покупок которых самые большие: @top_users\n",
    "2. Группа пользователей, для которых целесообразно подобрать программу лояльности для повышения их среднего чека: @perspective_users\n",
    "    "
   ]
  }
 ],
 "metadata": {
  "kernelspec": {
   "display_name": "Python 3",
   "language": "python",
   "name": "python3"
  },
  "language_info": {
   "codemirror_mode": {
    "name": "ipython",
    "version": 3
   },
   "file_extension": ".py",
   "mimetype": "text/x-python",
   "name": "python",
   "nbconvert_exporter": "python",
   "pygments_lexer": "ipython3",
   "version": "3.9.4"
  }
 },
 "nbformat": 4,
 "nbformat_minor": 5
}
